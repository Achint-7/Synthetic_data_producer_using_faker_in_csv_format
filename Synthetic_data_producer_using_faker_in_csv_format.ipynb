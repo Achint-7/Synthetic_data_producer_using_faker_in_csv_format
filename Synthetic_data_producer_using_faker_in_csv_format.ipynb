{
  "nbformat": 4,
  "nbformat_minor": 0,
  "metadata": {
    "colab": {
      "provenance": []
    },
    "kernelspec": {
      "name": "python3",
      "display_name": "Python 3"
    },
    "language_info": {
      "name": "python"
    }
  },
  "cells": [
    {
      "cell_type": "code",
      "source": [
        "!pip install faker\n"
      ],
      "metadata": {
        "colab": {
          "base_uri": "https://localhost:8080/"
        },
        "id": "lbqnfTgbcSIB",
        "outputId": "6b0abfb3-a5d9-49bc-de83-bd8ce3176792"
      },
      "execution_count": 2,
      "outputs": [
        {
          "output_type": "stream",
          "name": "stdout",
          "text": [
            "Collecting faker\n",
            "  Downloading Faker-23.3.0-py3-none-any.whl (1.8 MB)\n",
            "\u001b[2K     \u001b[90m━━━━━━━━━━━━━━━━━━━━━━━━━━━━━━━━━━━━━━━━\u001b[0m \u001b[32m1.8/1.8 MB\u001b[0m \u001b[31m7.5 MB/s\u001b[0m eta \u001b[36m0:00:00\u001b[0m\n",
            "\u001b[?25hRequirement already satisfied: python-dateutil>=2.4 in /usr/local/lib/python3.10/dist-packages (from faker) (2.8.2)\n",
            "Requirement already satisfied: six>=1.5 in /usr/local/lib/python3.10/dist-packages (from python-dateutil>=2.4->faker) (1.16.0)\n",
            "Installing collected packages: faker\n",
            "Successfully installed faker-23.3.0\n"
          ]
        }
      ]
    },
    {
      "cell_type": "code",
      "execution_count": 3,
      "metadata": {
        "id": "inR7p-bpcCI0"
      },
      "outputs": [],
      "source": [
        "import pandas as pd\n",
        "import random\n",
        "from faker import Faker"
      ]
    },
    {
      "cell_type": "code",
      "source": [
        "# Initialize a Faker object\n",
        "fake = Faker()"
      ],
      "metadata": {
        "id": "ZlvdnW8icED-"
      },
      "execution_count": 4,
      "outputs": []
    },
    {
      "cell_type": "code",
      "source": [
        "# Define lists to store data\n",
        "patient_id = []\n",
        "date = []\n",
        "time = []\n",
        "text_or_problem_faced = []\n",
        "died_alive = []"
      ],
      "metadata": {
        "id": "p9liK72NcFKv"
      },
      "execution_count": 5,
      "outputs": []
    },
    {
      "cell_type": "code",
      "source": [
        "# Generate synthetic data\n",
        "for _ in range(200):\n",
        "    patient_id.append(fake.unique.random_number(digits=5))\n",
        "    date.append(fake.date(pattern=\"%d/%m/%Y\", end_datetime=None))\n",
        "    time.append(fake.time(pattern=\"%I:%M %p\", end_datetime=None))\n",
        "    text_or_problem_faced.append(fake.sentence(nb_words=6))\n",
        "    died_alive.append(random.choice(['died', 'alive']))"
      ],
      "metadata": {
        "id": "HQpdk0A7cHIQ"
      },
      "execution_count": 6,
      "outputs": []
    },
    {
      "cell_type": "code",
      "source": [
        "# Create a DataFrame\n",
        "df = pd.DataFrame({\n",
        "    'patient_id': patient_id,\n",
        "    'date': date,\n",
        "    'time': time,\n",
        "    'text_or_problem_faced': text_or_problem_faced,\n",
        "    'died_alive': died_alive\n",
        "})"
      ],
      "metadata": {
        "id": "cv-WrJv5ccUx"
      },
      "execution_count": 7,
      "outputs": []
    },
    {
      "cell_type": "code",
      "source": [
        "# Save the DataFrame to a CSV file\n",
        "df.to_csv('synthetic_data.csv', index=False)"
      ],
      "metadata": {
        "id": "DC-rZLA1ceh_"
      },
      "execution_count": 8,
      "outputs": []
    },
    {
      "cell_type": "code",
      "source": [
        "from google.colab import files\n",
        "\n",
        "# Save DataFrame to a CSV file\n",
        "df.to_csv('synthetic_data.csv', index=False)\n",
        "\n",
        "# Download the CSV file\n",
        "files.download('synthetic_data.csv')\n"
      ],
      "metadata": {
        "colab": {
          "base_uri": "https://localhost:8080/",
          "height": 17
        },
        "id": "pjnh0kzhctow",
        "outputId": "403fdfa8-dc97-4361-b29e-65213ed45f5a"
      },
      "execution_count": 9,
      "outputs": [
        {
          "output_type": "display_data",
          "data": {
            "text/plain": [
              "<IPython.core.display.Javascript object>"
            ],
            "application/javascript": [
              "\n",
              "    async function download(id, filename, size) {\n",
              "      if (!google.colab.kernel.accessAllowed) {\n",
              "        return;\n",
              "      }\n",
              "      const div = document.createElement('div');\n",
              "      const label = document.createElement('label');\n",
              "      label.textContent = `Downloading \"${filename}\": `;\n",
              "      div.appendChild(label);\n",
              "      const progress = document.createElement('progress');\n",
              "      progress.max = size;\n",
              "      div.appendChild(progress);\n",
              "      document.body.appendChild(div);\n",
              "\n",
              "      const buffers = [];\n",
              "      let downloaded = 0;\n",
              "\n",
              "      const channel = await google.colab.kernel.comms.open(id);\n",
              "      // Send a message to notify the kernel that we're ready.\n",
              "      channel.send({})\n",
              "\n",
              "      for await (const message of channel.messages) {\n",
              "        // Send a message to notify the kernel that we're ready.\n",
              "        channel.send({})\n",
              "        if (message.buffers) {\n",
              "          for (const buffer of message.buffers) {\n",
              "            buffers.push(buffer);\n",
              "            downloaded += buffer.byteLength;\n",
              "            progress.value = downloaded;\n",
              "          }\n",
              "        }\n",
              "      }\n",
              "      const blob = new Blob(buffers, {type: 'application/binary'});\n",
              "      const a = document.createElement('a');\n",
              "      a.href = window.URL.createObjectURL(blob);\n",
              "      a.download = filename;\n",
              "      div.appendChild(a);\n",
              "      a.click();\n",
              "      div.remove();\n",
              "    }\n",
              "  "
            ]
          },
          "metadata": {}
        },
        {
          "output_type": "display_data",
          "data": {
            "text/plain": [
              "<IPython.core.display.Javascript object>"
            ],
            "application/javascript": [
              "download(\"download_91d323db-96f0-4e17-9bad-217fadcae6dd\", \"synthetic_data.csv\", 13481)"
            ]
          },
          "metadata": {}
        }
      ]
    }
  ]
}